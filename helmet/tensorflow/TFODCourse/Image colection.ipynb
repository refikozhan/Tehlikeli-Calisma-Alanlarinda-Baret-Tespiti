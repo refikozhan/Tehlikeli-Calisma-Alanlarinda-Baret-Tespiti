{
 "cells": [
  {
   "cell_type": "markdown",
   "id": "5ae935fe",
   "metadata": {},
   "source": [
    "# 1. Import Dependencies"
   ]
  },
  {
   "cell_type": "code",
   "execution_count": 1,
   "id": "82eb55de",
   "metadata": {},
   "outputs": [
    {
     "name": "stdout",
     "output_type": "stream",
     "text": [
      "Requirement already satisfied: opencv-python in c:\\users\\ronde\\helmet\\tensorflow\\tfodcourse\\tfod\\lib\\site-packages (4.6.0.66)\n",
      "Requirement already satisfied: numpy>=1.14.5 in c:\\users\\ronde\\helmet\\tensorflow\\tfodcourse\\tfod\\lib\\site-packages (from opencv-python) (1.23.1)\n"
     ]
    }
   ],
   "source": [
    "!pip install opencv-python\n"
   ]
  },
  {
   "cell_type": "code",
   "execution_count": 2,
   "id": "ae5e30ce",
   "metadata": {},
   "outputs": [],
   "source": [
    "import cv2\n",
    "\n",
    "import time\n",
    "\n",
    "import uuid\n",
    "\n",
    "#Operating System\n",
    "import os\n"
   ]
  },
  {
   "cell_type": "markdown",
   "id": "aadff7aa",
   "metadata": {},
   "source": [
    "# 2. Define Images to Collect  # TOPLANACAK RESİMLERİ TANIMLA"
   ]
  },
  {
   "cell_type": "code",
   "execution_count": 3,
   "id": "30c44bcc",
   "metadata": {},
   "outputs": [],
   "source": [
    "labels = ['onlyHelmet', 'OK', 'NOK']\n",
    "number_imgs = 3\n"
   ]
  },
  {
   "cell_type": "markdown",
   "id": "0a3a648f",
   "metadata": {},
   "source": [
    "# 3. Setup Folders  # 3. Kurulum Klasörleri\n",
    "\n"
   ]
  },
  {
   "cell_type": "code",
   "execution_count": 4,
   "id": "a324bf2d",
   "metadata": {},
   "outputs": [],
   "source": [
    "IMAGES_PATH = os.path.join('Tensorflow', 'workspace', 'images', 'collectedimages')"
   ]
  },
  {
   "cell_type": "code",
   "execution_count": 5,
   "id": "5b7c145c",
   "metadata": {},
   "outputs": [],
   "source": [
    "if not os.path.exists(IMAGES_PATH):\n",
    "    if os.name == 'posix':\n",
    "        !mkdir -p {IMAGES_PATH}\n",
    "    if os.name == 'nt':\n",
    "         !mkdir {IMAGES_PATH}\n",
    "for label in labels:\n",
    "    path = os.path.join(IMAGES_PATH, label)\n",
    "    if not os.path.exists(path):\n",
    "        !mkdir {path}"
   ]
  },
  {
   "cell_type": "markdown",
   "id": "e96545f9",
   "metadata": {},
   "source": [
    "# 4. Capture Images  # Görüntü yakalama\n"
   ]
  },
  {
   "cell_type": "code",
   "execution_count": null,
   "id": "5f379db8",
   "metadata": {},
   "outputs": [],
   "source": [
    "for label in labels:\n",
    "    cap = cv2.VideoCapture(0)\n",
    "    print('Collecting images for {}'.format(label))\n",
    "    time.sleep(5)\n",
    "    for imgnum in range(number_imgs):\n",
    "        print('Collecting image {}'.format(imgnum))\n",
    "        ret, frame = cap.read()\n",
    "        imgname = os.path.join(IMAGES_PATH,label,label+'.'+'{}.jpg'.format(str(uuid.uuid1())))\n",
    "        cv2.imwrite(imgname, frame)\n",
    "        cv2.imshow('frame', frame)\n",
    "        time.sleep(2)\n",
    "\n",
    "        if cv2.waitKey(1) & 0xFF == ord('q'):\n",
    "            break\n",
    "cap.release()\n",
    "cv2.destroyAllWindows()"
   ]
  },
  {
   "cell_type": "markdown",
   "id": "59df27aa",
   "metadata": {},
   "source": [
    "# 5. Image Labelling  # GÖRÜNTÜ ETİKETLEME\n"
   ]
  },
  {
   "cell_type": "code",
   "execution_count": 6,
   "id": "d7c6e994",
   "metadata": {},
   "outputs": [
    {
     "name": "stdout",
     "output_type": "stream",
     "text": [
      "Requirement already satisfied: pyqt5 in c:\\users\\ronde\\helmet\\tensorflow\\tfodcourse\\tfod\\lib\\site-packages (5.15.7)\n",
      "Requirement already satisfied: lxml in c:\\users\\ronde\\helmet\\tensorflow\\tfodcourse\\tfod\\lib\\site-packages (4.9.1)\n",
      "Requirement already satisfied: PyQt5-sip<13,>=12.11 in c:\\users\\ronde\\helmet\\tensorflow\\tfodcourse\\tfod\\lib\\site-packages (from pyqt5) (12.11.0)\n",
      "Requirement already satisfied: PyQt5-Qt5>=5.15.0 in c:\\users\\ronde\\helmet\\tensorflow\\tfodcourse\\tfod\\lib\\site-packages (from pyqt5) (5.15.2)\n"
     ]
    }
   ],
   "source": [
    "!pip install --upgrade pyqt5 lxml"
   ]
  },
  {
   "cell_type": "code",
   "execution_count": 7,
   "id": "de461179",
   "metadata": {},
   "outputs": [],
   "source": [
    "LABELIMG_PATH = os.path.join('Tensorflow', 'labelimg')"
   ]
  },
  {
   "cell_type": "code",
   "execution_count": 8,
   "id": "08d283a9",
   "metadata": {},
   "outputs": [],
   "source": [
    "if not os.path.exists(LABELIMG_PATH):\n",
    "    !mkdir {LABELIMG_PATH}\n",
    "    !git clone https://github.com/tzutalin/labelImg {LABELIMG_PATH}"
   ]
  },
  {
   "cell_type": "code",
   "execution_count": 9,
   "id": "68c56ebf",
   "metadata": {},
   "outputs": [],
   "source": [
    "if os.name == 'posix':\n",
    "    !make qt5py3\n",
    "if os.name =='nt':\n",
    "    !cd {LABELIMG_PATH} && pyrcc5 -o libs/resources.py resources.qrc"
   ]
  },
  {
   "cell_type": "code",
   "execution_count": 10,
   "id": "a64d7e7e",
   "metadata": {},
   "outputs": [
    {
     "name": "stdout",
     "output_type": "stream",
     "text": [
      "Image:C:\\Users\\ronde\\OneDrive\\Masaüstü\\ff\\pp\\for.jpeg -> Annotation:C:/Users/ronde/OneDrive/Masaüstü/ff/pp\\for.xml\n",
      "Image:C:\\Users\\ronde\\OneDrive\\Masaüstü\\ff\\pp\\for.jpeg -> Annotation:C:/Users/ronde/OneDrive/Masaüstü/ff/pp\\for.xml\n",
      "Image:C:\\Users\\ronde\\OneDrive\\Masaüstü\\ff\\pp\\one.jpeg -> Annotation:C:/Users/ronde/OneDrive/Masaüstü/ff/pp\\one.xml\n",
      "Image:C:\\Users\\ronde\\OneDrive\\Masaüstü\\ff\\pp\\one.jpeg -> Annotation:C:/Users/ronde/OneDrive/Masaüstü/ff/pp\\one.xml\n",
      "Image:C:\\Users\\ronde\\OneDrive\\Masaüstü\\ff\\pp\\third.jpeg -> Annotation:C:/Users/ronde/OneDrive/Masaüstü/ff/pp\\third.xml\n",
      "Image:C:\\Users\\ronde\\OneDrive\\Masaüstü\\ff\\pp\\third.jpeg -> Annotation:C:/Users/ronde/OneDrive/Masaüstü/ff/pp\\third.xml\n",
      "Image:C:\\Users\\ronde\\OneDrive\\Masaüstü\\ff\\pp\\two.jpeg -> Annotation:C:/Users/ronde/OneDrive/Masaüstü/ff/pp\\two.xml\n",
      "Image:C:\\Users\\ronde\\OneDrive\\Masaüstü\\ff\\pp\\two.jpeg -> Annotation:C:/Users/ronde/OneDrive/Masaüstü/ff/pp\\two.xml\n"
     ]
    }
   ],
   "source": [
    "!cd {LABELIMG_PATH} && python labelImg.py"
   ]
  },
  {
   "cell_type": "markdown",
   "id": "e18e1f7b",
   "metadata": {},
   "source": [
    "# 6. Move them into a Training and Testing Partition # Bunları bir Eğitim ve Test Bölümüne taşıyın"
   ]
  },
  {
   "cell_type": "markdown",
   "id": "7ce53e00",
   "metadata": {},
   "source": [
    "# OPTIONAL - 7. Compress them for Colab Training\n"
   ]
  },
  {
   "cell_type": "code",
   "execution_count": 22,
   "id": "59a507f0",
   "metadata": {},
   "outputs": [],
   "source": [
    "#TRAIN_PATH = os.path.join('Tensorflow', 'workspace', 'images', 'train')\n",
    "#TEST_PATH = os.path.join('Tensorflow', 'workspace', 'images', 'test')\n",
    "#ARCHIVE_PATH = os.path.join('Tensorflow', 'workspace', 'images', 'archive.tar.gz')"
   ]
  },
  {
   "cell_type": "code",
   "execution_count": 23,
   "id": "60ab8ab8",
   "metadata": {},
   "outputs": [],
   "source": [
    "#!tar -czf {ARCHIVE_PATH} {TRAIN_PATH} {TEST_PATH}"
   ]
  },
  {
   "cell_type": "code",
   "execution_count": null,
   "id": "f894daea",
   "metadata": {},
   "outputs": [],
   "source": []
  },
  {
   "cell_type": "code",
   "execution_count": null,
   "id": "ed29f8ed",
   "metadata": {},
   "outputs": [],
   "source": []
  }
 ],
 "metadata": {
  "kernelspec": {
   "display_name": "tfod",
   "language": "python",
   "name": "tfod"
  },
  "language_info": {
   "codemirror_mode": {
    "name": "ipython",
    "version": 3
   },
   "file_extension": ".py",
   "mimetype": "text/x-python",
   "name": "python",
   "nbconvert_exporter": "python",
   "pygments_lexer": "ipython3",
   "version": "3.9.12"
  }
 },
 "nbformat": 4,
 "nbformat_minor": 5
}
